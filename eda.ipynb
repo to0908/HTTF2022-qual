{
 "cells": [
  {
   "cell_type": "code",
   "execution_count": 1,
   "metadata": {},
   "outputs": [],
   "source": [
    "import scoreSum\r\n",
    "import os\r\n",
    "import matplotlib.pyplot as plt\r\n",
    "import pandas as pd\r\n",
    "import numpy as np"
   ]
  },
  {
   "cell_type": "code",
   "execution_count": 2,
   "metadata": {},
   "outputs": [
    {
     "data": {
      "image/png": "[encoded data removed]",
      "text/plain": "<Figure size 432x288 with 1 Axes>"
     },
     "metadata": {
      "needs_background": "light"
     },
     "output_type": "display_data"
    }
   ],
   "source": [
    "infile = os.listdir('in')\r\n",
    "scorefile = os.listdir('scores')\r\n",
    "\r\n",
    "def getR(path):\r\n",
    "    with open(path) as f:\r\n",
    "        data = f.readlines()[0].split(' ')[-1].rsplit('\\n')[0]\r\n",
    "        # print(data)\r\n",
    "    return int(data)\r\n",
    "\r\n",
    "Rs = []\r\n",
    "scores = []\r\n",
    "for path in scorefile:\r\n",
    "    scorepath = os.path.join('scores', path)\r\n",
    "    inpath = os.path.join('in', path)\r\n",
    "    score = scoreSum.getScore(scorepath)\r\n",
    "    if score < 0: continue\r\n",
    "    scores.append(score)\r\n",
    "    Rs.append(getR(inpath))\r\n",
    "\r\n",
    "plt.scatter(Rs, scores)\r\n",
    "plt.show()"
   ]
  },
  {
   "cell_type": "code",
   "execution_count": 14,
   "metadata": {},
   "outputs": [
    {
     "name": "stdout",
     "output_type": "stream",
     "text": [
      "1000 20 15 1048\n",
      "0 7 28 1 11 10 9 7 4 1 6 4 2 12 9\n",
      "\n"
     ]
    }
   ],
   "source": [
    "infile = os.listdir('in')\r\n",
    "def getSkill(path):\r\n",
    "    with open(path) as f:\r\n",
    "        data = f.readlines()\r\n",
    "        N,M,K,R = map(int,data[0].split(' '))\r\n",
    "        # print(data)\r\n",
    "        print(N,M,K,R)\r\n",
    "        l = N + R + 1\r\n",
    "        print(data[l])\r\n",
    "for fi in infile:\r\n",
    "    path = os.path.join('in', fi)\r\n",
    "    getSkill(path)\r\n",
    "    break"
   ]
  },
  {
   "cell_type": "code",
   "execution_count": null,
   "metadata": {},
   "outputs": [],
   "source": []
  }
 ],
 "metadata": {
  "kernelspec": {
   "display_name": "Python 3.9.4 64-bit",
   "metadata": {
    "interpreter": {
     "hash": "63fd5069d213b44bf678585dea6b12cceca9941eaf7f819626cde1f2670de90d"
    }
   },
   "name": "python3"
  },
  "language_info": {
   "codemirror_mode": {
    "name": "ipython",
    "version": 3
   },
   "file_extension": ".py",
   "mimetype": "text/x-python",
   "name": "python",
   "nbconvert_exporter": "python",
   "pygments_lexer": "ipython3",
   "version": "3.9.4"
  },
  "orig_nbformat": 2
 },
 "nbformat": 4,
 "nbformat_minor": 2
}